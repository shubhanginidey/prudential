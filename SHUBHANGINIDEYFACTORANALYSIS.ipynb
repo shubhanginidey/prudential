{
  "nbformat": 4,
  "nbformat_minor": 0,
  "metadata": {
    "colab": {
      "provenance": []
    },
    "kernelspec": {
      "name": "python3",
      "display_name": "Python 3"
    },
    "language_info": {
      "name": "python"
    }
  },
  "cells": [
    {
      "cell_type": "code",
      "execution_count": null,
      "metadata": {
        "id": "_7UaGb2C54gW"
      },
      "outputs": [],
      "source": []
    },
    {
      "cell_type": "markdown",
      "source": [
        "###Importing Modules"
      ],
      "metadata": {
        "id": "p1WEiuO76ZZH"
      }
    },
    {
      "cell_type": "code",
      "source": [
        "# from sklearn.metrics import log_loss\n",
        "import pandas as pd\n",
        "import numpy as np\n",
        "import matplotlib.pyplot as plt\n",
        "import seaborn as sns\n",
        "# from sklearn.ensemble import RandomForestClassifier\n",
        "# from pprint import pprint\n",
        "# from sklearn.model_selection import train_test_split\n",
        "# from sklearn.preprocessing import OneHotEncoder\n",
        "# from sklearn.model_selection import GridSearchCV\n",
        "# from sklearn.model_selection import RandomizedSearchCV\n",
        "# from sklearn.model_selection import train_test_split\n",
        "# from sklearn import ensemble\n",
        "# from sklearn.ensemble import GradientBoostingClassifier\n",
        "# from xgboost import XGBClassifier\n",
        "# from sklearn.metrics import accuracy_score,roc_auc_score,confusion_matrix\n",
        "# from sklearn.linear_model import LogisticRegression\n",
        "# from sklearn.metrics import accuracy_score, f1_score, precision_score, recall_score, classification_report, confusion_matrix,r2_score\n",
        "# import warnings\n",
        "# from mlxtend.classifier import StackingClassifier\n",
        "# import missingno as msno\n",
        "# from sklearn.ensemble import VotingClassifier\n",
        "# import shap\n",
        "# shap.initjs()\n",
        "# import lime\n",
        "# from lime import lime_tabular\n",
        "# warnings.simplefilter('ignore')\n",
        "import os\n",
        "plt.style.use('seaborn-whitegrid')\n",
        "# plt.style.use('dark_background')\n",
        "\n",
        "for dirname, _, filenames in os.walk('/kaggle/input'):\n",
        "    for filename in filenames:\n",
        "        print(os.path.join(dirname, filename))"
      ],
      "metadata": {
        "colab": {
          "base_uri": "https://localhost:8080/"
        },
        "id": "EUAh_sXA6ajE",
        "outputId": "8891ec88-6722-4779-a449-6266495dbae7"
      },
      "execution_count": 1,
      "outputs": [
        {
          "output_type": "stream",
          "name": "stderr",
          "text": [
            "<ipython-input-1-ef1aaf2f7497>:29: MatplotlibDeprecationWarning: The seaborn styles shipped by Matplotlib are deprecated since 3.6, as they no longer correspond to the styles shipped by seaborn. However, they will remain available as 'seaborn-v0_8-<style>'. Alternatively, directly use the seaborn API instead.\n",
            "  plt.style.use('seaborn-whitegrid')\n"
          ]
        }
      ]
    },
    {
      "cell_type": "markdown",
      "source": [
        "###Reading Data"
      ],
      "metadata": {
        "id": "hZJ48iFF6eqz"
      }
    },
    {
      "cell_type": "code",
      "source": [
        "insurance_df = pd.read_csv('train.csv', index_col='Id')\n",
        "insurance_df.head()"
      ],
      "metadata": {
        "colab": {
          "base_uri": "https://localhost:8080/",
          "height": 287
        },
        "id": "zB6Vsa4Q6kep",
        "outputId": "f1bfb5e5-4c2a-441f-c441-fc1a965513fe"
      },
      "execution_count": 2,
      "outputs": [
        {
          "output_type": "execute_result",
          "data": {
            "text/plain": [
              "    Product_Info_1 Product_Info_2  Product_Info_3  Product_Info_4  \\\n",
              "Id                                                                  \n",
              "2                1             D3              10        0.076923   \n",
              "5                1             A1              26        0.076923   \n",
              "6                1             E1              26        0.076923   \n",
              "7                1             D4              10        0.487179   \n",
              "8                1             D2              26        0.230769   \n",
              "\n",
              "    Product_Info_5  Product_Info_6  Product_Info_7   Ins_Age        Ht  \\\n",
              "Id                                                                       \n",
              "2                2               1               1  0.641791  0.581818   \n",
              "5                2               3               1  0.059701  0.600000   \n",
              "6                2               3               1  0.029851  0.745455   \n",
              "7                2               3               1  0.164179  0.672727   \n",
              "8                2               3               1  0.417910  0.654545   \n",
              "\n",
              "          Wt  ...  Medical_Keyword_40  Medical_Keyword_41  Medical_Keyword_42  \\\n",
              "Id            ...                                                               \n",
              "2   0.148536  ...                   0                   0                   0   \n",
              "5   0.131799  ...                   0                   0                   0   \n",
              "6   0.288703  ...                   0                   0                   0   \n",
              "7   0.205021  ...                   0                   0                   0   \n",
              "8   0.234310  ...                   0                   0                   0   \n",
              "\n",
              "    Medical_Keyword_43  Medical_Keyword_44  Medical_Keyword_45  \\\n",
              "Id                                                               \n",
              "2                    0                   0                   0   \n",
              "5                    0                   0                   0   \n",
              "6                    0                   0                   0   \n",
              "7                    0                   0                   0   \n",
              "8                    0                   0                   0   \n",
              "\n",
              "    Medical_Keyword_46  Medical_Keyword_47  Medical_Keyword_48  Response  \n",
              "Id                                                                        \n",
              "2                    0                   0                   0         8  \n",
              "5                    0                   0                   0         4  \n",
              "6                    0                   0                   0         8  \n",
              "7                    0                   0                   0         8  \n",
              "8                    0                   0                   0         8  \n",
              "\n",
              "[5 rows x 127 columns]"
            ],
            "text/html": [
              "\n",
              "  <div id=\"df-98041a5d-322d-43b7-9542-d597af64abde\" class=\"colab-df-container\">\n",
              "    <div>\n",
              "<style scoped>\n",
              "    .dataframe tbody tr th:only-of-type {\n",
              "        vertical-align: middle;\n",
              "    }\n",
              "\n",
              "    .dataframe tbody tr th {\n",
              "        vertical-align: top;\n",
              "    }\n",
              "\n",
              "    .dataframe thead th {\n",
              "        text-align: right;\n",
              "    }\n",
              "</style>\n",
              "<table border=\"1\" class=\"dataframe\">\n",
              "  <thead>\n",
              "    <tr style=\"text-align: right;\">\n",
              "      <th></th>\n",
              "      <th>Product_Info_1</th>\n",
              "      <th>Product_Info_2</th>\n",
              "      <th>Product_Info_3</th>\n",
              "      <th>Product_Info_4</th>\n",
              "      <th>Product_Info_5</th>\n",
              "      <th>Product_Info_6</th>\n",
              "      <th>Product_Info_7</th>\n",
              "      <th>Ins_Age</th>\n",
              "      <th>Ht</th>\n",
              "      <th>Wt</th>\n",
              "      <th>...</th>\n",
              "      <th>Medical_Keyword_40</th>\n",
              "      <th>Medical_Keyword_41</th>\n",
              "      <th>Medical_Keyword_42</th>\n",
              "      <th>Medical_Keyword_43</th>\n",
              "      <th>Medical_Keyword_44</th>\n",
              "      <th>Medical_Keyword_45</th>\n",
              "      <th>Medical_Keyword_46</th>\n",
              "      <th>Medical_Keyword_47</th>\n",
              "      <th>Medical_Keyword_48</th>\n",
              "      <th>Response</th>\n",
              "    </tr>\n",
              "    <tr>\n",
              "      <th>Id</th>\n",
              "      <th></th>\n",
              "      <th></th>\n",
              "      <th></th>\n",
              "      <th></th>\n",
              "      <th></th>\n",
              "      <th></th>\n",
              "      <th></th>\n",
              "      <th></th>\n",
              "      <th></th>\n",
              "      <th></th>\n",
              "      <th></th>\n",
              "      <th></th>\n",
              "      <th></th>\n",
              "      <th></th>\n",
              "      <th></th>\n",
              "      <th></th>\n",
              "      <th></th>\n",
              "      <th></th>\n",
              "      <th></th>\n",
              "      <th></th>\n",
              "      <th></th>\n",
              "    </tr>\n",
              "  </thead>\n",
              "  <tbody>\n",
              "    <tr>\n",
              "      <th>2</th>\n",
              "      <td>1</td>\n",
              "      <td>D3</td>\n",
              "      <td>10</td>\n",
              "      <td>0.076923</td>\n",
              "      <td>2</td>\n",
              "      <td>1</td>\n",
              "      <td>1</td>\n",
              "      <td>0.641791</td>\n",
              "      <td>0.581818</td>\n",
              "      <td>0.148536</td>\n",
              "      <td>...</td>\n",
              "      <td>0</td>\n",
              "      <td>0</td>\n",
              "      <td>0</td>\n",
              "      <td>0</td>\n",
              "      <td>0</td>\n",
              "      <td>0</td>\n",
              "      <td>0</td>\n",
              "      <td>0</td>\n",
              "      <td>0</td>\n",
              "      <td>8</td>\n",
              "    </tr>\n",
              "    <tr>\n",
              "      <th>5</th>\n",
              "      <td>1</td>\n",
              "      <td>A1</td>\n",
              "      <td>26</td>\n",
              "      <td>0.076923</td>\n",
              "      <td>2</td>\n",
              "      <td>3</td>\n",
              "      <td>1</td>\n",
              "      <td>0.059701</td>\n",
              "      <td>0.600000</td>\n",
              "      <td>0.131799</td>\n",
              "      <td>...</td>\n",
              "      <td>0</td>\n",
              "      <td>0</td>\n",
              "      <td>0</td>\n",
              "      <td>0</td>\n",
              "      <td>0</td>\n",
              "      <td>0</td>\n",
              "      <td>0</td>\n",
              "      <td>0</td>\n",
              "      <td>0</td>\n",
              "      <td>4</td>\n",
              "    </tr>\n",
              "    <tr>\n",
              "      <th>6</th>\n",
              "      <td>1</td>\n",
              "      <td>E1</td>\n",
              "      <td>26</td>\n",
              "      <td>0.076923</td>\n",
              "      <td>2</td>\n",
              "      <td>3</td>\n",
              "      <td>1</td>\n",
              "      <td>0.029851</td>\n",
              "      <td>0.745455</td>\n",
              "      <td>0.288703</td>\n",
              "      <td>...</td>\n",
              "      <td>0</td>\n",
              "      <td>0</td>\n",
              "      <td>0</td>\n",
              "      <td>0</td>\n",
              "      <td>0</td>\n",
              "      <td>0</td>\n",
              "      <td>0</td>\n",
              "      <td>0</td>\n",
              "      <td>0</td>\n",
              "      <td>8</td>\n",
              "    </tr>\n",
              "    <tr>\n",
              "      <th>7</th>\n",
              "      <td>1</td>\n",
              "      <td>D4</td>\n",
              "      <td>10</td>\n",
              "      <td>0.487179</td>\n",
              "      <td>2</td>\n",
              "      <td>3</td>\n",
              "      <td>1</td>\n",
              "      <td>0.164179</td>\n",
              "      <td>0.672727</td>\n",
              "      <td>0.205021</td>\n",
              "      <td>...</td>\n",
              "      <td>0</td>\n",
              "      <td>0</td>\n",
              "      <td>0</td>\n",
              "      <td>0</td>\n",
              "      <td>0</td>\n",
              "      <td>0</td>\n",
              "      <td>0</td>\n",
              "      <td>0</td>\n",
              "      <td>0</td>\n",
              "      <td>8</td>\n",
              "    </tr>\n",
              "    <tr>\n",
              "      <th>8</th>\n",
              "      <td>1</td>\n",
              "      <td>D2</td>\n",
              "      <td>26</td>\n",
              "      <td>0.230769</td>\n",
              "      <td>2</td>\n",
              "      <td>3</td>\n",
              "      <td>1</td>\n",
              "      <td>0.417910</td>\n",
              "      <td>0.654545</td>\n",
              "      <td>0.234310</td>\n",
              "      <td>...</td>\n",
              "      <td>0</td>\n",
              "      <td>0</td>\n",
              "      <td>0</td>\n",
              "      <td>0</td>\n",
              "      <td>0</td>\n",
              "      <td>0</td>\n",
              "      <td>0</td>\n",
              "      <td>0</td>\n",
              "      <td>0</td>\n",
              "      <td>8</td>\n",
              "    </tr>\n",
              "  </tbody>\n",
              "</table>\n",
              "<p>5 rows × 127 columns</p>\n",
              "</div>\n",
              "    <div class=\"colab-df-buttons\">\n",
              "\n",
              "  <div class=\"colab-df-container\">\n",
              "    <button class=\"colab-df-convert\" onclick=\"convertToInteractive('df-98041a5d-322d-43b7-9542-d597af64abde')\"\n",
              "            title=\"Convert this dataframe to an interactive table.\"\n",
              "            style=\"display:none;\">\n",
              "\n",
              "  <svg xmlns=\"http://www.w3.org/2000/svg\" height=\"24px\" viewBox=\"0 -960 960 960\">\n",
              "    <path d=\"M120-120v-720h720v720H120Zm60-500h600v-160H180v160Zm220 220h160v-160H400v160Zm0 220h160v-160H400v160ZM180-400h160v-160H180v160Zm440 0h160v-160H620v160ZM180-180h160v-160H180v160Zm440 0h160v-160H620v160Z\"/>\n",
              "  </svg>\n",
              "    </button>\n",
              "\n",
              "  <style>\n",
              "    .colab-df-container {\n",
              "      display:flex;\n",
              "      gap: 12px;\n",
              "    }\n",
              "\n",
              "    .colab-df-convert {\n",
              "      background-color: #E8F0FE;\n",
              "      border: none;\n",
              "      border-radius: 50%;\n",
              "      cursor: pointer;\n",
              "      display: none;\n",
              "      fill: #1967D2;\n",
              "      height: 32px;\n",
              "      padding: 0 0 0 0;\n",
              "      width: 32px;\n",
              "    }\n",
              "\n",
              "    .colab-df-convert:hover {\n",
              "      background-color: #E2EBFA;\n",
              "      box-shadow: 0px 1px 2px rgba(60, 64, 67, 0.3), 0px 1px 3px 1px rgba(60, 64, 67, 0.15);\n",
              "      fill: #174EA6;\n",
              "    }\n",
              "\n",
              "    .colab-df-buttons div {\n",
              "      margin-bottom: 4px;\n",
              "    }\n",
              "\n",
              "    [theme=dark] .colab-df-convert {\n",
              "      background-color: #3B4455;\n",
              "      fill: #D2E3FC;\n",
              "    }\n",
              "\n",
              "    [theme=dark] .colab-df-convert:hover {\n",
              "      background-color: #434B5C;\n",
              "      box-shadow: 0px 1px 3px 1px rgba(0, 0, 0, 0.15);\n",
              "      filter: drop-shadow(0px 1px 2px rgba(0, 0, 0, 0.3));\n",
              "      fill: #FFFFFF;\n",
              "    }\n",
              "  </style>\n",
              "\n",
              "    <script>\n",
              "      const buttonEl =\n",
              "        document.querySelector('#df-98041a5d-322d-43b7-9542-d597af64abde button.colab-df-convert');\n",
              "      buttonEl.style.display =\n",
              "        google.colab.kernel.accessAllowed ? 'block' : 'none';\n",
              "\n",
              "      async function convertToInteractive(key) {\n",
              "        const element = document.querySelector('#df-98041a5d-322d-43b7-9542-d597af64abde');\n",
              "        const dataTable =\n",
              "          await google.colab.kernel.invokeFunction('convertToInteractive',\n",
              "                                                    [key], {});\n",
              "        if (!dataTable) return;\n",
              "\n",
              "        const docLinkHtml = 'Like what you see? Visit the ' +\n",
              "          '<a target=\"_blank\" href=https://colab.research.google.com/notebooks/data_table.ipynb>data table notebook</a>'\n",
              "          + ' to learn more about interactive tables.';\n",
              "        element.innerHTML = '';\n",
              "        dataTable['output_type'] = 'display_data';\n",
              "        await google.colab.output.renderOutput(dataTable, element);\n",
              "        const docLink = document.createElement('div');\n",
              "        docLink.innerHTML = docLinkHtml;\n",
              "        element.appendChild(docLink);\n",
              "      }\n",
              "    </script>\n",
              "  </div>\n",
              "\n",
              "\n",
              "<div id=\"df-94b5daa7-96fb-4399-bcf6-83df1be3d5f5\">\n",
              "  <button class=\"colab-df-quickchart\" onclick=\"quickchart('df-94b5daa7-96fb-4399-bcf6-83df1be3d5f5')\"\n",
              "            title=\"Suggest charts\"\n",
              "            style=\"display:none;\">\n",
              "\n",
              "<svg xmlns=\"http://www.w3.org/2000/svg\" height=\"24px\"viewBox=\"0 0 24 24\"\n",
              "     width=\"24px\">\n",
              "    <g>\n",
              "        <path d=\"M19 3H5c-1.1 0-2 .9-2 2v14c0 1.1.9 2 2 2h14c1.1 0 2-.9 2-2V5c0-1.1-.9-2-2-2zM9 17H7v-7h2v7zm4 0h-2V7h2v10zm4 0h-2v-4h2v4z\"/>\n",
              "    </g>\n",
              "</svg>\n",
              "  </button>\n",
              "\n",
              "<style>\n",
              "  .colab-df-quickchart {\n",
              "      --bg-color: #E8F0FE;\n",
              "      --fill-color: #1967D2;\n",
              "      --hover-bg-color: #E2EBFA;\n",
              "      --hover-fill-color: #174EA6;\n",
              "      --disabled-fill-color: #AAA;\n",
              "      --disabled-bg-color: #DDD;\n",
              "  }\n",
              "\n",
              "  [theme=dark] .colab-df-quickchart {\n",
              "      --bg-color: #3B4455;\n",
              "      --fill-color: #D2E3FC;\n",
              "      --hover-bg-color: #434B5C;\n",
              "      --hover-fill-color: #FFFFFF;\n",
              "      --disabled-bg-color: #3B4455;\n",
              "      --disabled-fill-color: #666;\n",
              "  }\n",
              "\n",
              "  .colab-df-quickchart {\n",
              "    background-color: var(--bg-color);\n",
              "    border: none;\n",
              "    border-radius: 50%;\n",
              "    cursor: pointer;\n",
              "    display: none;\n",
              "    fill: var(--fill-color);\n",
              "    height: 32px;\n",
              "    padding: 0;\n",
              "    width: 32px;\n",
              "  }\n",
              "\n",
              "  .colab-df-quickchart:hover {\n",
              "    background-color: var(--hover-bg-color);\n",
              "    box-shadow: 0 1px 2px rgba(60, 64, 67, 0.3), 0 1px 3px 1px rgba(60, 64, 67, 0.15);\n",
              "    fill: var(--button-hover-fill-color);\n",
              "  }\n",
              "\n",
              "  .colab-df-quickchart-complete:disabled,\n",
              "  .colab-df-quickchart-complete:disabled:hover {\n",
              "    background-color: var(--disabled-bg-color);\n",
              "    fill: var(--disabled-fill-color);\n",
              "    box-shadow: none;\n",
              "  }\n",
              "\n",
              "  .colab-df-spinner {\n",
              "    border: 2px solid var(--fill-color);\n",
              "    border-color: transparent;\n",
              "    border-bottom-color: var(--fill-color);\n",
              "    animation:\n",
              "      spin 1s steps(1) infinite;\n",
              "  }\n",
              "\n",
              "  @keyframes spin {\n",
              "    0% {\n",
              "      border-color: transparent;\n",
              "      border-bottom-color: var(--fill-color);\n",
              "      border-left-color: var(--fill-color);\n",
              "    }\n",
              "    20% {\n",
              "      border-color: transparent;\n",
              "      border-left-color: var(--fill-color);\n",
              "      border-top-color: var(--fill-color);\n",
              "    }\n",
              "    30% {\n",
              "      border-color: transparent;\n",
              "      border-left-color: var(--fill-color);\n",
              "      border-top-color: var(--fill-color);\n",
              "      border-right-color: var(--fill-color);\n",
              "    }\n",
              "    40% {\n",
              "      border-color: transparent;\n",
              "      border-right-color: var(--fill-color);\n",
              "      border-top-color: var(--fill-color);\n",
              "    }\n",
              "    60% {\n",
              "      border-color: transparent;\n",
              "      border-right-color: var(--fill-color);\n",
              "    }\n",
              "    80% {\n",
              "      border-color: transparent;\n",
              "      border-right-color: var(--fill-color);\n",
              "      border-bottom-color: var(--fill-color);\n",
              "    }\n",
              "    90% {\n",
              "      border-color: transparent;\n",
              "      border-bottom-color: var(--fill-color);\n",
              "    }\n",
              "  }\n",
              "</style>\n",
              "\n",
              "  <script>\n",
              "    async function quickchart(key) {\n",
              "      const quickchartButtonEl =\n",
              "        document.querySelector('#' + key + ' button');\n",
              "      quickchartButtonEl.disabled = true;  // To prevent multiple clicks.\n",
              "      quickchartButtonEl.classList.add('colab-df-spinner');\n",
              "      try {\n",
              "        const charts = await google.colab.kernel.invokeFunction(\n",
              "            'suggestCharts', [key], {});\n",
              "      } catch (error) {\n",
              "        console.error('Error during call to suggestCharts:', error);\n",
              "      }\n",
              "      quickchartButtonEl.classList.remove('colab-df-spinner');\n",
              "      quickchartButtonEl.classList.add('colab-df-quickchart-complete');\n",
              "    }\n",
              "    (() => {\n",
              "      let quickchartButtonEl =\n",
              "        document.querySelector('#df-94b5daa7-96fb-4399-bcf6-83df1be3d5f5 button');\n",
              "      quickchartButtonEl.style.display =\n",
              "        google.colab.kernel.accessAllowed ? 'block' : 'none';\n",
              "    })();\n",
              "  </script>\n",
              "</div>\n",
              "\n",
              "    </div>\n",
              "  </div>\n"
            ],
            "application/vnd.google.colaboratory.intrinsic+json": {
              "type": "dataframe",
              "variable_name": "insurance_df"
            }
          },
          "metadata": {},
          "execution_count": 2
        }
      ]
    },
    {
      "cell_type": "markdown",
      "source": [
        "###shape"
      ],
      "metadata": {
        "id": "zdQBZCRv6oH8"
      }
    },
    {
      "cell_type": "code",
      "source": [
        "insurance_df.shape"
      ],
      "metadata": {
        "colab": {
          "base_uri": "https://localhost:8080/"
        },
        "id": "LAay8o0R7CqM",
        "outputId": "13f7e11d-abbe-433f-f888-5834aa7b47ba"
      },
      "execution_count": 3,
      "outputs": [
        {
          "output_type": "execute_result",
          "data": {
            "text/plain": [
              "(59381, 127)"
            ]
          },
          "metadata": {},
          "execution_count": 3
        }
      ]
    },
    {
      "cell_type": "markdown",
      "source": [],
      "metadata": {
        "id": "KI4y7BTj7PrY"
      }
    },
    {
      "cell_type": "markdown",
      "source": [
        "###Distribution of Target Variable"
      ],
      "metadata": {
        "id": "CyBzJyYh7IRv"
      }
    },
    {
      "cell_type": "code",
      "source": [
        "insurance_df['Response'].value_counts()"
      ],
      "metadata": {
        "colab": {
          "base_uri": "https://localhost:8080/"
        },
        "id": "o9ohv_dP7K6x",
        "outputId": "deeb0aa9-9b76-49dc-a03e-6549094c4d97"
      },
      "execution_count": 4,
      "outputs": [
        {
          "output_type": "execute_result",
          "data": {
            "text/plain": [
              "Response\n",
              "8    19489\n",
              "6    11233\n",
              "7     8027\n",
              "2     6552\n",
              "1     6207\n",
              "5     5432\n",
              "4     1428\n",
              "3     1013\n",
              "Name: count, dtype: int64"
            ]
          },
          "metadata": {},
          "execution_count": 4
        }
      ]
    },
    {
      "cell_type": "markdown",
      "source": [
        "Class imbalance can be seen here. Also there 8 categories, lets combine them to 3 categories"
      ],
      "metadata": {
        "id": "f5xM5Jgv7RQs"
      }
    },
    {
      "cell_type": "markdown",
      "source": [],
      "metadata": {
        "id": "FA9y7Ulx7TxG"
      }
    },
    {
      "cell_type": "code",
      "source": [
        "sns.countplot(x=insurance_df['Response']);"
      ],
      "metadata": {
        "colab": {
          "base_uri": "https://localhost:8080/",
          "height": 445
        },
        "id": "YqJj2r1e7V01",
        "outputId": "b8aa63b7-05b5-43d4-e9b6-878e6d38a187"
      },
      "execution_count": 5,
      "outputs": [
        {
          "output_type": "display_data",
          "data": {
            "text/plain": [
              "<Figure size 640x480 with 1 Axes>"
            ],
            "image/png": "[encoded data removed]"
          },
          "metadata": {}
        }
      ]
    },
    {
      "cell_type": "markdown",
      "source": [
        "###Processing Target Variable"
      ],
      "metadata": {
        "id": "oT20OyAo7aLM"
      }
    },
    {
      "cell_type": "code",
      "source": [
        "insurance_df['Modified_Response']  = insurance_df['Response'].apply(lambda x : 0 if x<=7 and x>=0 else (1 if x==8 else -1))"
      ],
      "metadata": {
        "id": "tvq6ghXH7aw8"
      },
      "execution_count": 6,
      "outputs": []
    },
    {
      "cell_type": "markdown",
      "source": [],
      "metadata": {
        "id": "XwFCbbF87d9W"
      }
    },
    {
      "cell_type": "code",
      "source": [
        "sns.countplot(x= insurance_df['Modified_Response']);"
      ],
      "metadata": {
        "colab": {
          "base_uri": "https://localhost:8080/",
          "height": 445
        },
        "id": "TbLnKEtD7f39",
        "outputId": "64543342-a4ca-4571-e2bb-28978d65f06c"
      },
      "execution_count": 7,
      "outputs": [
        {
          "output_type": "display_data",
          "data": {
            "text/plain": [
              "<Figure size 640x480 with 1 Axes>"
            ],
            "image/png": "[encoded data removed]"
          },
          "metadata": {}
        }
      ]
    },
    {
      "cell_type": "markdown",
      "source": [
        "###Removing old target variable"
      ],
      "metadata": {
        "id": "NSTM9FKq7i9n"
      }
    },
    {
      "cell_type": "code",
      "source": [
        "# Dropping old response columns\n",
        "insurance_df.drop('Response',axis = 1, inplace=True)"
      ],
      "metadata": {
        "id": "7Sj0_eVY7jnA"
      },
      "execution_count": 8,
      "outputs": []
    },
    {
      "cell_type": "markdown",
      "source": [
        "###Making categorical and numerical columns list"
      ],
      "metadata": {
        "id": "73P4bZQl79Q9"
      }
    },
    {
      "cell_type": "code",
      "source": [
        "# Making lists with categorical and numerical features.\n",
        "categorical =  [col for col in insurance_df.columns if insurance_df[col].dtype =='object']\n",
        "\n",
        "numerical = categorical =  [col for col in insurance_df.columns if insurance_df[col].dtype !='object']"
      ],
      "metadata": {
        "id": "nk7CBD0_7_bC"
      },
      "execution_count": 9,
      "outputs": []
    },
    {
      "cell_type": "markdown",
      "source": [
        "###Visualizations On Categorical Features"
      ],
      "metadata": {
        "id": "iD3J4O298C1f"
      }
    },
    {
      "cell_type": "code",
      "source": [
        "for col in categorical:\n",
        "    counts = insurance_df[col].value_counts().sort_index()\n",
        "    if len(counts) > 10 and len(counts) < 50 :\n",
        "      fig = plt.figure(figsize=(30, 10))\n",
        "    elif len(counts) >50 :\n",
        "      continue\n",
        "    else:\n",
        "      fig = plt.figure(figsize=(9, 6))"
      ],
      "metadata": {
        "colab": {
          "base_uri": "https://localhost:8080/",
          "height": 1000
        },
        "id": "zA1IFIxN8E2H",
        "outputId": "5edd630f-214b-4e8f-bfe8-55d33c01358f"
      },
      "execution_count": 10,
      "outputs": [
        {
          "output_type": "stream",
          "name": "stderr",
          "text": [
            "<ipython-input-10-0bee0e79e3cc>:8: RuntimeWarning: More than 20 figures have been opened. Figures created through the pyplot interface (`matplotlib.pyplot.figure`) are retained until explicitly closed and may consume too much memory. (To control this warning, see the rcParam `figure.max_open_warning`). Consider using `matplotlib.pyplot.close()`.\n",
            "  fig = plt.figure(figsize=(9, 6))\n"
          ]
        },
        {
          "output_type": "display_data",
          "data": {
            "text/plain": [
              "<Figure size 900x600 with 0 Axes>"
            ]
          },
          "metadata": {}
        },
        {
          "output_type": "display_data",
          "data": {
            "text/plain": [
              "<Figure size 3000x1000 with 0 Axes>"
            ]
          },
          "metadata": {}
        },
        {
          "output_type": "display_data",
          "data": {
            "text/plain": [
              "<Figure size 900x600 with 0 Axes>"
            ]
          },
          "metadata": {}
        },
        {
          "output_type": "display_data",
          "data": {
            "text/plain": [
              "<Figure size 900x600 with 0 Axes>"
            ]
          },
          "metadata": {}
        },
        {
          "output_type": "display_data",
          "data": {
            "text/plain": [
              "<Figure size 900x600 with 0 Axes>"
            ]
          },
          "metadata": {}
        },
        {
          "output_type": "display_data",
          "data": {
            "text/plain": [
              "<Figure size 3000x1000 with 0 Axes>"
            ]
          },
          "metadata": {}
        },
        {
          "output_type": "display_data",
          "data": {
            "text/plain": [
              "<Figure size 3000x1000 with 0 Axes>"
            ]
          },
          "metadata": {}
        },
        {
          "output_type": "display_data",
          "data": {
            "text/plain": [
              "<Figure size 900x600 with 0 Axes>"
            ]
          },
          "metadata": {}
        },
        {
          "output_type": "display_data",
          "data": {
            "text/plain": [
              "<Figure size 900x600 with 0 Axes>"
            ]
          },
          "metadata": {}
        },
        {
          "output_type": "display_data",
          "data": {
            "text/plain": [
              "<Figure size 900x600 with 0 Axes>"
            ]
          },
          "metadata": {}
        },
        {
          "output_type": "display_data",
          "data": {
            "text/plain": [
              "<Figure size 900x600 with 0 Axes>"
            ]
          },
          "metadata": {}
        },
        {
          "output_type": "display_data",
          "data": {
            "text/plain": [
              "<Figure size 3000x1000 with 0 Axes>"
            ]
          },
          "metadata": {}
        },
        {
          "output_type": "display_data",
          "data": {
            "text/plain": [
              "<Figure size 900x600 with 0 Axes>"
            ]
          },
          "metadata": {}
        },
        {
          "output_type": "display_data",
          "data": {
            "text/plain": [
              "<Figure size 900x600 with 0 Axes>"
            ]
          },
          "metadata": {}
        },
        {
          "output_type": "display_data",
          "data": {
            "text/plain": [
              "<Figure size 900x600 with 0 Axes>"
            ]
          },
          "metadata": {}
        },
        {
          "output_type": "display_data",
          "data": {
            "text/plain": [
              "<Figure size 900x600 with 0 Axes>"
            ]
          },
          "metadata": {}
        },
        {
          "output_type": "display_data",
          "data": {
            "text/plain": [
              "<Figure size 900x600 with 0 Axes>"
            ]
          },
          "metadata": {}
        },
        {
          "output_type": "display_data",
          "data": {
            "text/plain": [
              "<Figure size 900x600 with 0 Axes>"
            ]
          },
          "metadata": {}
        },
        {
          "output_type": "display_data",
          "data": {
            "text/plain": [
              "<Figure size 900x600 with 0 Axes>"
            ]
          },
          "metadata": {}
        },
        {
          "output_type": "display_data",
          "data": {
            "text/plain": [
              "<Figure size 900x600 with 0 Axes>"
            ]
          },
          "metadata": {}
        },
        {
          "output_type": "display_data",
          "data": {
            "text/plain": [
              "<Figure size 900x600 with 0 Axes>"
            ]
          },
          "metadata": {}
        },
        {
          "output_type": "display_data",
          "data": {
            "text/plain": [
              "<Figure size 900x600 with 0 Axes>"
            ]
          },
          "metadata": {}
        },
        {
          "output_type": "display_data",
          "data": {
            "text/plain": [
              "<Figure size 900x600 with 0 Axes>"
            ]
          },
          "metadata": {}
        },
        {
          "output_type": "display_data",
          "data": {
            "text/plain": [
              "<Figure size 900x600 with 0 Axes>"
            ]
          },
          "metadata": {}
        },
        {
          "output_type": "display_data",
          "data": {
            "text/plain": [
              "<Figure size 900x600 with 0 Axes>"
            ]
          },
          "metadata": {}
        },
        {
          "output_type": "display_data",
          "data": {
            "text/plain": [
              "<Figure size 900x600 with 0 Axes>"
            ]
          },
          "metadata": {}
        },
        {
          "output_type": "display_data",
          "data": {
            "text/plain": [
              "<Figure size 900x600 with 0 Axes>"
            ]
          },
          "metadata": {}
        },
        {
          "output_type": "display_data",
          "data": {
            "text/plain": [
              "<Figure size 900x600 with 0 Axes>"
            ]
          },
          "metadata": {}
        },
        {
          "output_type": "display_data",
          "data": {
            "text/plain": [
              "<Figure size 900x600 with 0 Axes>"
            ]
          },
          "metadata": {}
        },
        {
          "output_type": "display_data",
          "data": {
            "text/plain": [
              "<Figure size 900x600 with 0 Axes>"
            ]
          },
          "metadata": {}
        },
        {
          "output_type": "display_data",
          "data": {
            "text/plain": [
              "<Figure size 900x600 with 0 Axes>"
            ]
          },
          "metadata": {}
        },
        {
          "output_type": "display_data",
          "data": {
            "text/plain": [
              "<Figure size 900x600 with 0 Axes>"
            ]
          },
          "metadata": {}
        },
        {
          "output_type": "display_data",
          "data": {
            "text/plain": [
              "<Figure size 900x600 with 0 Axes>"
            ]
          },
          "metadata": {}
        },
        {
          "output_type": "display_data",
          "data": {
            "text/plain": [
              "<Figure size 900x600 with 0 Axes>"
            ]
          },
          "metadata": {}
        },
        {
          "output_type": "display_data",
          "data": {
            "text/plain": [
              "<Figure size 900x600 with 0 Axes>"
            ]
          },
          "metadata": {}
        },
        {
          "output_type": "display_data",
          "data": {
            "text/plain": [
              "<Figure size 900x600 with 0 Axes>"
            ]
          },
          "metadata": {}
        },
        {
          "output_type": "display_data",
          "data": {
            "text/plain": [
              "<Figure size 900x600 with 0 Axes>"
            ]
          },
          "metadata": {}
        },
        {
          "output_type": "display_data",
          "data": {
            "text/plain": [
              "<Figure size 900x600 with 0 Axes>"
            ]
          },
          "metadata": {}
        },
        {
          "output_type": "display_data",
          "data": {
            "text/plain": [
              "<Figure size 900x600 with 0 Axes>"
            ]
          },
          "metadata": {}
        },
        {
          "output_type": "display_data",
          "data": {
            "text/plain": [
              "<Figure size 900x600 with 0 Axes>"
            ]
          },
          "metadata": {}
        },
        {
          "output_type": "display_data",
          "data": {
            "text/plain": [
              "<Figure size 900x600 with 0 Axes>"
            ]
          },
          "metadata": {}
        },
        {
          "output_type": "display_data",
          "data": {
            "text/plain": [
              "<Figure size 900x600 with 0 Axes>"
            ]
          },
          "metadata": {}
        },
        {
          "output_type": "display_data",
          "data": {
            "text/plain": [
              "<Figure size 900x600 with 0 Axes>"
            ]
          },
          "metadata": {}
        },
        {
          "output_type": "display_data",
          "data": {
            "text/plain": [
              "<Figure size 900x600 with 0 Axes>"
            ]
          },
          "metadata": {}
        },
        {
          "output_type": "display_data",
          "data": {
            "text/plain": [
              "<Figure size 900x600 with 0 Axes>"
            ]
          },
          "metadata": {}
        },
        {
          "output_type": "display_data",
          "data": {
            "text/plain": [
              "<Figure size 900x600 with 0 Axes>"
            ]
          },
          "metadata": {}
        },
        {
          "output_type": "display_data",
          "data": {
            "text/plain": [
              "<Figure size 900x600 with 0 Axes>"
            ]
          },
          "metadata": {}
        },
        {
          "output_type": "display_data",
          "data": {
            "text/plain": [
              "<Figure size 900x600 with 0 Axes>"
            ]
          },
          "metadata": {}
        },
        {
          "output_type": "display_data",
          "data": {
            "text/plain": [
              "<Figure size 900x600 with 0 Axes>"
            ]
          },
          "metadata": {}
        },
        {
          "output_type": "display_data",
          "data": {
            "text/plain": [
              "<Figure size 900x600 with 0 Axes>"
            ]
          },
          "metadata": {}
        },
        {
          "output_type": "display_data",
          "data": {
            "text/plain": [
              "<Figure size 900x600 with 0 Axes>"
            ]
          },
          "metadata": {}
        },
        {
          "output_type": "display_data",
          "data": {
            "text/plain": [
              "<Figure size 900x600 with 0 Axes>"
            ]
          },
          "metadata": {}
        },
        {
          "output_type": "display_data",
          "data": {
            "text/plain": [
              "<Figure size 900x600 with 0 Axes>"
            ]
          },
          "metadata": {}
        },
        {
          "output_type": "display_data",
          "data": {
            "text/plain": [
              "<Figure size 900x600 with 0 Axes>"
            ]
          },
          "metadata": {}
        },
        {
          "output_type": "display_data",
          "data": {
            "text/plain": [
              "<Figure size 900x600 with 0 Axes>"
            ]
          },
          "metadata": {}
        },
        {
          "output_type": "display_data",
          "data": {
            "text/plain": [
              "<Figure size 900x600 with 0 Axes>"
            ]
          },
          "metadata": {}
        },
        {
          "output_type": "display_data",
          "data": {
            "text/plain": [
              "<Figure size 900x600 with 0 Axes>"
            ]
          },
          "metadata": {}
        },
        {
          "output_type": "display_data",
          "data": {
            "text/plain": [
              "<Figure size 900x600 with 0 Axes>"
            ]
          },
          "metadata": {}
        },
        {
          "output_type": "display_data",
          "data": {
            "text/plain": [
              "<Figure size 900x600 with 0 Axes>"
            ]
          },
          "metadata": {}
        },
        {
          "output_type": "display_data",
          "data": {
            "text/plain": [
              "<Figure size 900x600 with 0 Axes>"
            ]
          },
          "metadata": {}
        },
        {
          "output_type": "display_data",
          "data": {
            "text/plain": [
              "<Figure size 900x600 with 0 Axes>"
            ]
          },
          "metadata": {}
        },
        {
          "output_type": "display_data",
          "data": {
            "text/plain": [
              "<Figure size 900x600 with 0 Axes>"
            ]
          },
          "metadata": {}
        },
        {
          "output_type": "display_data",
          "data": {
            "text/plain": [
              "<Figure size 900x600 with 0 Axes>"
            ]
          },
          "metadata": {}
        },
        {
          "output_type": "display_data",
          "data": {
            "text/plain": [
              "<Figure size 900x600 with 0 Axes>"
            ]
          },
          "metadata": {}
        },
        {
          "output_type": "display_data",
          "data": {
            "text/plain": [
              "<Figure size 900x600 with 0 Axes>"
            ]
          },
          "metadata": {}
        },
        {
          "output_type": "display_data",
          "data": {
            "text/plain": [
              "<Figure size 900x600 with 0 Axes>"
            ]
          },
          "metadata": {}
        },
        {
          "output_type": "display_data",
          "data": {
            "text/plain": [
              "<Figure size 900x600 with 0 Axes>"
            ]
          },
          "metadata": {}
        },
        {
          "output_type": "display_data",
          "data": {
            "text/plain": [
              "<Figure size 900x600 with 0 Axes>"
            ]
          },
          "metadata": {}
        },
        {
          "output_type": "display_data",
          "data": {
            "text/plain": [
              "<Figure size 900x600 with 0 Axes>"
            ]
          },
          "metadata": {}
        },
        {
          "output_type": "display_data",
          "data": {
            "text/plain": [
              "<Figure size 900x600 with 0 Axes>"
            ]
          },
          "metadata": {}
        },
        {
          "output_type": "display_data",
          "data": {
            "text/plain": [
              "<Figure size 900x600 with 0 Axes>"
            ]
          },
          "metadata": {}
        },
        {
          "output_type": "display_data",
          "data": {
            "text/plain": [
              "<Figure size 900x600 with 0 Axes>"
            ]
          },
          "metadata": {}
        },
        {
          "output_type": "display_data",
          "data": {
            "text/plain": [
              "<Figure size 900x600 with 0 Axes>"
            ]
          },
          "metadata": {}
        },
        {
          "output_type": "display_data",
          "data": {
            "text/plain": [
              "<Figure size 900x600 with 0 Axes>"
            ]
          },
          "metadata": {}
        },
        {
          "output_type": "display_data",
          "data": {
            "text/plain": [
              "<Figure size 900x600 with 0 Axes>"
            ]
          },
          "metadata": {}
        },
        {
          "output_type": "display_data",
          "data": {
            "text/plain": [
              "<Figure size 900x600 with 0 Axes>"
            ]
          },
          "metadata": {}
        },
        {
          "output_type": "display_data",
          "data": {
            "text/plain": [
              "<Figure size 900x600 with 0 Axes>"
            ]
          },
          "metadata": {}
        },
        {
          "output_type": "display_data",
          "data": {
            "text/plain": [
              "<Figure size 900x600 with 0 Axes>"
            ]
          },
          "metadata": {}
        },
        {
          "output_type": "display_data",
          "data": {
            "text/plain": [
              "<Figure size 900x600 with 0 Axes>"
            ]
          },
          "metadata": {}
        },
        {
          "output_type": "display_data",
          "data": {
            "text/plain": [
              "<Figure size 900x600 with 0 Axes>"
            ]
          },
          "metadata": {}
        },
        {
          "output_type": "display_data",
          "data": {
            "text/plain": [
              "<Figure size 900x600 with 0 Axes>"
            ]
          },
          "metadata": {}
        },
        {
          "output_type": "display_data",
          "data": {
            "text/plain": [
              "<Figure size 900x600 with 0 Axes>"
            ]
          },
          "metadata": {}
        },
        {
          "output_type": "display_data",
          "data": {
            "text/plain": [
              "<Figure size 900x600 with 0 Axes>"
            ]
          },
          "metadata": {}
        },
        {
          "output_type": "display_data",
          "data": {
            "text/plain": [
              "<Figure size 900x600 with 0 Axes>"
            ]
          },
          "metadata": {}
        },
        {
          "output_type": "display_data",
          "data": {
            "text/plain": [
              "<Figure size 900x600 with 0 Axes>"
            ]
          },
          "metadata": {}
        },
        {
          "output_type": "display_data",
          "data": {
            "text/plain": [
              "<Figure size 900x600 with 0 Axes>"
            ]
          },
          "metadata": {}
        },
        {
          "output_type": "display_data",
          "data": {
            "text/plain": [
              "<Figure size 900x600 with 0 Axes>"
            ]
          },
          "metadata": {}
        },
        {
          "output_type": "display_data",
          "data": {
            "text/plain": [
              "<Figure size 900x600 with 0 Axes>"
            ]
          },
          "metadata": {}
        },
        {
          "output_type": "display_data",
          "data": {
            "text/plain": [
              "<Figure size 900x600 with 0 Axes>"
            ]
          },
          "metadata": {}
        },
        {
          "output_type": "display_data",
          "data": {
            "text/plain": [
              "<Figure size 900x600 with 0 Axes>"
            ]
          },
          "metadata": {}
        },
        {
          "output_type": "display_data",
          "data": {
            "text/plain": [
              "<Figure size 900x600 with 0 Axes>"
            ]
          },
          "metadata": {}
        },
        {
          "output_type": "display_data",
          "data": {
            "text/plain": [
              "<Figure size 900x600 with 0 Axes>"
            ]
          },
          "metadata": {}
        },
        {
          "output_type": "display_data",
          "data": {
            "text/plain": [
              "<Figure size 900x600 with 0 Axes>"
            ]
          },
          "metadata": {}
        },
        {
          "output_type": "display_data",
          "data": {
            "text/plain": [
              "<Figure size 900x600 with 0 Axes>"
            ]
          },
          "metadata": {}
        },
        {
          "output_type": "display_data",
          "data": {
            "text/plain": [
              "<Figure size 900x600 with 0 Axes>"
            ]
          },
          "metadata": {}
        },
        {
          "output_type": "display_data",
          "data": {
            "text/plain": [
              "<Figure size 900x600 with 0 Axes>"
            ]
          },
          "metadata": {}
        },
        {
          "output_type": "display_data",
          "data": {
            "text/plain": [
              "<Figure size 900x600 with 0 Axes>"
            ]
          },
          "metadata": {}
        },
        {
          "output_type": "display_data",
          "data": {
            "text/plain": [
              "<Figure size 900x600 with 0 Axes>"
            ]
          },
          "metadata": {}
        },
        {
          "output_type": "display_data",
          "data": {
            "text/plain": [
              "<Figure size 900x600 with 0 Axes>"
            ]
          },
          "metadata": {}
        },
        {
          "output_type": "display_data",
          "data": {
            "text/plain": [
              "<Figure size 900x600 with 0 Axes>"
            ]
          },
          "metadata": {}
        },
        {
          "output_type": "display_data",
          "data": {
            "text/plain": [
              "<Figure size 900x600 with 0 Axes>"
            ]
          },
          "metadata": {}
        },
        {
          "output_type": "display_data",
          "data": {
            "text/plain": [
              "<Figure size 900x600 with 0 Axes>"
            ]
          },
          "metadata": {}
        },
        {
          "output_type": "display_data",
          "data": {
            "text/plain": [
              "<Figure size 900x600 with 0 Axes>"
            ]
          },
          "metadata": {}
        },
        {
          "output_type": "display_data",
          "data": {
            "text/plain": [
              "<Figure size 900x600 with 0 Axes>"
            ]
          },
          "metadata": {}
        },
        {
          "output_type": "display_data",
          "data": {
            "text/plain": [
              "<Figure size 900x600 with 0 Axes>"
            ]
          },
          "metadata": {}
        },
        {
          "output_type": "display_data",
          "data": {
            "text/plain": [
              "<Figure size 900x600 with 0 Axes>"
            ]
          },
          "metadata": {}
        },
        {
          "output_type": "display_data",
          "data": {
            "text/plain": [
              "<Figure size 900x600 with 0 Axes>"
            ]
          },
          "metadata": {}
        },
        {
          "output_type": "display_data",
          "data": {
            "text/plain": [
              "<Figure size 900x600 with 0 Axes>"
            ]
          },
          "metadata": {}
        }
      ]
    },
    {
      "cell_type": "markdown",
      "source": [],
      "metadata": {
        "id": "hfKetWww8Ixo"
      }
    },
    {
      "cell_type": "code",
      "source": [
        "fig, axes = plt.subplots(1,2,figsize=(10,5))\n",
        "sns.distplot(insurance_df['Employment_Info_1'], ax=axes[0])\n",
        "sns.boxplot(insurance_df['Employment_Info_1'], ax=axes[1])"
      ],
      "metadata": {
        "colab": {
          "base_uri": "https://localhost:8080/",
          "height": 668
        },
        "id": "uQ1mL_vG8L-0",
        "outputId": "acbddc2b-247b-4f60-f10f-ea314b7c1c63"
      },
      "execution_count": 11,
      "outputs": [
        {
          "output_type": "stream",
          "name": "stderr",
          "text": [
            "<ipython-input-11-44dc72eb8577>:2: UserWarning: \n",
            "\n",
            "`distplot` is a deprecated function and will be removed in seaborn v0.14.0.\n",
            "\n",
            "Please adapt your code to use either `displot` (a figure-level function with\n",
            "similar flexibility) or `histplot` (an axes-level function for histograms).\n",
            "\n",
            "For a guide to updating your code to use the new functions, please see\n",
            "https://gist.github.com/mwaskom/de44147ed2974457ad6372750bbe5751\n",
            "\n",
            "  sns.distplot(insurance_df['Employment_Info_1'], ax=axes[0])\n"
          ]
        },
        {
          "output_type": "execute_result",
          "data": {
            "text/plain": [
              "<Axes: ylabel='Employment_Info_1'>"
            ]
          },
          "metadata": {},
          "execution_count": 11
        },
        {
          "output_type": "display_data",
          "data": {
            "text/plain": [
              "<Figure size 1000x500 with 2 Axes>"
            ],
            "image/png": "[encoded data removed]"
          },
          "metadata": {}
        }
      ]
    },
    {
      "cell_type": "code",
      "source": [
        "pip install dash plotly pandas\n"
      ],
      "metadata": {
        "colab": {
          "base_uri": "https://localhost:8080/"
        },
        "id": "CXYMVw6m8PoY",
        "outputId": "3a185042-9e4c-4a03-e91b-5059981171d3"
      },
      "execution_count": 12,
      "outputs": [
        {
          "output_type": "stream",
          "name": "stdout",
          "text": [
            "Collecting dash\n",
            "  Downloading dash-2.16.1-py3-none-any.whl (10.2 MB)\n",
            "\u001b[2K     \u001b[90m━━━━━━━━━━━━━━━━━━━━━━━━━━━━━━━━━━━━━━━━\u001b[0m \u001b[32m10.2/10.2 MB\u001b[0m \u001b[31m23.1 MB/s\u001b[0m eta \u001b[36m0:00:00\u001b[0m\n",
            "\u001b[?25hRequirement already satisfied: plotly in /usr/local/lib/python3.10/dist-packages (5.15.0)\n",
            "Requirement already satisfied: pandas in /usr/local/lib/python3.10/dist-packages (2.0.3)\n",
            "Requirement already satisfied: Flask<3.1,>=1.0.4 in /usr/local/lib/python3.10/dist-packages (from dash) (2.2.5)\n",
            "Requirement already satisfied: Werkzeug<3.1 in /usr/local/lib/python3.10/dist-packages (from dash) (3.0.2)\n",
            "Collecting dash-html-components==2.0.0 (from dash)\n",
            "  Downloading dash_html_components-2.0.0-py3-none-any.whl (4.1 kB)\n",
            "Collecting dash-core-components==2.0.0 (from dash)\n",
            "  Downloading dash_core_components-2.0.0-py3-none-any.whl (3.8 kB)\n",
            "Collecting dash-table==5.0.0 (from dash)\n",
            "  Downloading dash_table-5.0.0-py3-none-any.whl (3.9 kB)\n",
            "Requirement already satisfied: importlib-metadata in /usr/local/lib/python3.10/dist-packages (from dash) (7.1.0)\n",
            "Requirement already satisfied: typing-extensions>=4.1.1 in /usr/local/lib/python3.10/dist-packages (from dash) (4.11.0)\n",
            "Requirement already satisfied: requests in /usr/local/lib/python3.10/dist-packages (from dash) (2.31.0)\n",
            "Collecting retrying (from dash)\n",
            "  Downloading retrying-1.3.4-py3-none-any.whl (11 kB)\n",
            "Requirement already satisfied: nest-asyncio in /usr/local/lib/python3.10/dist-packages (from dash) (1.6.0)\n",
            "Requirement already satisfied: setuptools in /usr/local/lib/python3.10/dist-packages (from dash) (67.7.2)\n",
            "Requirement already satisfied: tenacity>=6.2.0 in /usr/local/lib/python3.10/dist-packages (from plotly) (8.2.3)\n",
            "Requirement already satisfied: packaging in /usr/local/lib/python3.10/dist-packages (from plotly) (24.0)\n",
            "Requirement already satisfied: python-dateutil>=2.8.2 in /usr/local/lib/python3.10/dist-packages (from pandas) (2.8.2)\n",
            "Requirement already satisfied: pytz>=2020.1 in /usr/local/lib/python3.10/dist-packages (from pandas) (2023.4)\n",
            "Requirement already satisfied: tzdata>=2022.1 in /usr/local/lib/python3.10/dist-packages (from pandas) (2024.1)\n",
            "Requirement already satisfied: numpy>=1.21.0 in /usr/local/lib/python3.10/dist-packages (from pandas) (1.25.2)\n",
            "Requirement already satisfied: Jinja2>=3.0 in /usr/local/lib/python3.10/dist-packages (from Flask<3.1,>=1.0.4->dash) (3.1.3)\n",
            "Requirement already satisfied: itsdangerous>=2.0 in /usr/local/lib/python3.10/dist-packages (from Flask<3.1,>=1.0.4->dash) (2.2.0)\n",
            "Requirement already satisfied: click>=8.0 in /usr/local/lib/python3.10/dist-packages (from Flask<3.1,>=1.0.4->dash) (8.1.7)\n",
            "Requirement already satisfied: six>=1.5 in /usr/local/lib/python3.10/dist-packages (from python-dateutil>=2.8.2->pandas) (1.16.0)\n",
            "Requirement already satisfied: MarkupSafe>=2.1.1 in /usr/local/lib/python3.10/dist-packages (from Werkzeug<3.1->dash) (2.1.5)\n",
            "Requirement already satisfied: zipp>=0.5 in /usr/local/lib/python3.10/dist-packages (from importlib-metadata->dash) (3.18.1)\n",
            "Requirement already satisfied: charset-normalizer<4,>=2 in /usr/local/lib/python3.10/dist-packages (from requests->dash) (3.3.2)\n",
            "Requirement already satisfied: idna<4,>=2.5 in /usr/local/lib/python3.10/dist-packages (from requests->dash) (3.7)\n",
            "Requirement already satisfied: urllib3<3,>=1.21.1 in /usr/local/lib/python3.10/dist-packages (from requests->dash) (2.0.7)\n",
            "Requirement already satisfied: certifi>=2017.4.17 in /usr/local/lib/python3.10/dist-packages (from requests->dash) (2024.2.2)\n",
            "Installing collected packages: dash-table, dash-html-components, dash-core-components, retrying, dash\n",
            "Successfully installed dash-2.16.1 dash-core-components-2.0.0 dash-html-components-2.0.0 dash-table-5.0.0 retrying-1.3.4\n"
          ]
        }
      ]
    },
    {
      "cell_type": "code",
      "source": [
        "import dash\n",
        "from dash import dcc, html\n",
        "from dash.dependencies import Input, Output\n",
        "import plotly.express as px\n",
        "import pandas as pd\n",
        "\n",
        "# Load the Prudential insurance dataset\n",
        "df = pd.read_csv('train.csv')  # Update the filename with your dataset\n",
        "\n",
        "# Initialize the Dash app\n",
        "app = dash.Dash(__name__)\n",
        "\n",
        "# Define the layout of the dashboard\n",
        "app.layout = html.Div([\n",
        "    html.H1(\"Prudential Insurance Data Dashboard\"),\n",
        "    dcc.Dropdown(\n",
        "        id='dropdown-variable',\n",
        "        options=[{'label': i, 'value': i} for i in df.columns],\n",
        "        value='BMI'  # Default variable to display\n",
        "    ),\n",
        "    dcc.Graph(id='main-graph'),\n",
        "])\n",
        "\n",
        "# Define callback to update the graph based on the dropdown selection\n",
        "@app.callback(\n",
        "    Output('main-graph', 'figure'),\n",
        "    [Input('dropdown-variable', 'value')]\n",
        ")\n",
        "def update_graph(selected_variable):\n",
        "    fig = px.histogram(df, x=selected_variable, color='Response',\n",
        "                       marginal='box', barmode='overlay',\n",
        "                       title=f'Distribution of {selected_variable} by Response')\n",
        "    return fig\n",
        "\n",
        "# Run the app\n",
        "if __name__ == '__main__':\n",
        "    app.run_server(debug=True)\n"
      ],
      "metadata": {
        "colab": {
          "base_uri": "https://localhost:8080/",
          "height": 672
        },
        "id": "xFdLO6hj8diJ",
        "outputId": "04760e0f-a4f6-40b0-bd99-2b8ad76ba277"
      },
      "execution_count": 13,
      "outputs": [
        {
          "output_type": "display_data",
          "data": {
            "text/plain": [
              "<IPython.core.display.Javascript object>"
            ],
            "application/javascript": [
              "(async (port, path, width, height, cache, element) => {\n",
              "    if (!google.colab.kernel.accessAllowed && !cache) {\n",
              "      return;\n",
              "    }\n",
              "    element.appendChild(document.createTextNode(''));\n",
              "    const url = await google.colab.kernel.proxyPort(port, {cache});\n",
              "    const iframe = document.createElement('iframe');\n",
              "    iframe.src = new URL(path, url).toString();\n",
              "    iframe.height = height;\n",
              "    iframe.width = width;\n",
              "    iframe.style.border = 0;\n",
              "    iframe.allow = [\n",
              "        'accelerometer',\n",
              "        'autoplay',\n",
              "        'camera',\n",
              "        'clipboard-read',\n",
              "        'clipboard-write',\n",
              "        'gyroscope',\n",
              "        'magnetometer',\n",
              "        'microphone',\n",
              "        'serial',\n",
              "        'usb',\n",
              "        'xr-spatial-tracking',\n",
              "    ].join('; ');\n",
              "    element.appendChild(iframe);\n",
              "  })(8050, \"/\", \"100%\", 650, false, window.element)"
            ]
          },
          "metadata": {}
        }
      ]
    },
    {
      "cell_type": "markdown",
      "source": [
        "###Checking Correlation For Features greater than .8"
      ],
      "metadata": {
        "id": "dRYw0WpU8hW3"
      }
    },
    {
      "cell_type": "code",
      "source": [
        "import pandas as pd\n",
        "\n",
        "# Assuming you have already loaded your insurance dataset into insurance_df\n",
        "\n",
        "# Select only numeric columns\n",
        "numeric_columns = insurance_df.select_dtypes(include=['number'])\n",
        "\n",
        "# Calculate the correlation matrix\n",
        "corr = numeric_columns.corr()\n",
        "\n",
        "# Filter the correlation matrix for values greater than or equal to 0.8\n",
        "corr_greater_than_80 = corr[corr >= 0.8]\n",
        "\n",
        "print(corr_greater_than_80)\n"
      ],
      "metadata": {
        "colab": {
          "base_uri": "https://localhost:8080/"
        },
        "id": "3a5NISum8jIp",
        "outputId": "aed452ad-7855-411f-893f-e67e1f20541c"
      },
      "execution_count": 14,
      "outputs": [
        {
          "output_type": "stream",
          "name": "stdout",
          "text": [
            "                    Product_Info_1  Product_Info_3  Product_Info_4  \\\n",
            "Product_Info_1                 1.0             NaN             NaN   \n",
            "Product_Info_3                 NaN             1.0             NaN   \n",
            "Product_Info_4                 NaN             NaN             1.0   \n",
            "Product_Info_5                 NaN             NaN             NaN   \n",
            "Product_Info_6                 NaN             NaN             NaN   \n",
            "...                            ...             ...             ...   \n",
            "Medical_Keyword_45             NaN             NaN             NaN   \n",
            "Medical_Keyword_46             NaN             NaN             NaN   \n",
            "Medical_Keyword_47             NaN             NaN             NaN   \n",
            "Medical_Keyword_48             NaN             NaN             NaN   \n",
            "Modified_Response              NaN             NaN             NaN   \n",
            "\n",
            "                    Product_Info_5  Product_Info_6  Product_Info_7  Ins_Age  \\\n",
            "Product_Info_1                 NaN             NaN             NaN      NaN   \n",
            "Product_Info_3                 NaN             NaN             NaN      NaN   \n",
            "Product_Info_4                 NaN             NaN             NaN      NaN   \n",
            "Product_Info_5                 1.0             NaN             NaN      NaN   \n",
            "Product_Info_6                 NaN             1.0             NaN      NaN   \n",
            "...                            ...             ...             ...      ...   \n",
            "Medical_Keyword_45             NaN             NaN             NaN      NaN   \n",
            "Medical_Keyword_46             NaN             NaN             NaN      NaN   \n",
            "Medical_Keyword_47             NaN             NaN             NaN      NaN   \n",
            "Medical_Keyword_48             NaN             NaN             NaN      NaN   \n",
            "Modified_Response              NaN             NaN             NaN      NaN   \n",
            "\n",
            "                    Ht  Wt  BMI  ...  Medical_Keyword_40  Medical_Keyword_41  \\\n",
            "Product_Info_1     NaN NaN  NaN  ...                 NaN                 NaN   \n",
            "Product_Info_3     NaN NaN  NaN  ...                 NaN                 NaN   \n",
            "Product_Info_4     NaN NaN  NaN  ...                 NaN                 NaN   \n",
            "Product_Info_5     NaN NaN  NaN  ...                 NaN                 NaN   \n",
            "Product_Info_6     NaN NaN  NaN  ...                 NaN                 NaN   \n",
            "...                 ..  ..  ...  ...                 ...                 ...   \n",
            "Medical_Keyword_45 NaN NaN  NaN  ...                 NaN                 NaN   \n",
            "Medical_Keyword_46 NaN NaN  NaN  ...                 NaN                 NaN   \n",
            "Medical_Keyword_47 NaN NaN  NaN  ...                 NaN                 NaN   \n",
            "Medical_Keyword_48 NaN NaN  NaN  ...                 NaN                 NaN   \n",
            "Modified_Response  NaN NaN  NaN  ...                 NaN                 NaN   \n",
            "\n",
            "                    Medical_Keyword_42  Medical_Keyword_43  \\\n",
            "Product_Info_1                     NaN                 NaN   \n",
            "Product_Info_3                     NaN                 NaN   \n",
            "Product_Info_4                     NaN                 NaN   \n",
            "Product_Info_5                     NaN                 NaN   \n",
            "Product_Info_6                     NaN                 NaN   \n",
            "...                                ...                 ...   \n",
            "Medical_Keyword_45                 NaN                 NaN   \n",
            "Medical_Keyword_46                 NaN                 NaN   \n",
            "Medical_Keyword_47                 NaN                 NaN   \n",
            "Medical_Keyword_48                 NaN                 NaN   \n",
            "Modified_Response                  NaN                 NaN   \n",
            "\n",
            "                    Medical_Keyword_44  Medical_Keyword_45  \\\n",
            "Product_Info_1                     NaN                 NaN   \n",
            "Product_Info_3                     NaN                 NaN   \n",
            "Product_Info_4                     NaN                 NaN   \n",
            "Product_Info_5                     NaN                 NaN   \n",
            "Product_Info_6                     NaN                 NaN   \n",
            "...                                ...                 ...   \n",
            "Medical_Keyword_45                 NaN                 1.0   \n",
            "Medical_Keyword_46                 NaN                 NaN   \n",
            "Medical_Keyword_47                 NaN                 NaN   \n",
            "Medical_Keyword_48                 NaN                 NaN   \n",
            "Modified_Response                  NaN                 NaN   \n",
            "\n",
            "                    Medical_Keyword_46  Medical_Keyword_47  \\\n",
            "Product_Info_1                     NaN                 NaN   \n",
            "Product_Info_3                     NaN                 NaN   \n",
            "Product_Info_4                     NaN                 NaN   \n",
            "Product_Info_5                     NaN                 NaN   \n",
            "Product_Info_6                     NaN                 NaN   \n",
            "...                                ...                 ...   \n",
            "Medical_Keyword_45                 NaN                 NaN   \n",
            "Medical_Keyword_46                 1.0                 NaN   \n",
            "Medical_Keyword_47                 NaN                 1.0   \n",
            "Medical_Keyword_48                 NaN                 NaN   \n",
            "Modified_Response                  NaN                 NaN   \n",
            "\n",
            "                    Medical_Keyword_48  Modified_Response  \n",
            "Product_Info_1                     NaN                NaN  \n",
            "Product_Info_3                     NaN                NaN  \n",
            "Product_Info_4                     NaN                NaN  \n",
            "Product_Info_5                     NaN                NaN  \n",
            "Product_Info_6                     NaN                NaN  \n",
            "...                                ...                ...  \n",
            "Medical_Keyword_45                 NaN                NaN  \n",
            "Medical_Keyword_46                 NaN                NaN  \n",
            "Medical_Keyword_47                 NaN                NaN  \n",
            "Medical_Keyword_48                 1.0                NaN  \n",
            "Modified_Response                  NaN                1.0  \n",
            "\n",
            "[126 rows x 126 columns]\n"
          ]
        }
      ]
    },
    {
      "cell_type": "code",
      "source": [
        "plt.figure(figsize=(12,8))\n",
        "sns.heatmap(corr_greater_than_80, cmap=\"Reds\");"
      ],
      "metadata": {
        "colab": {
          "base_uri": "https://localhost:8080/",
          "height": 796
        },
        "id": "73bat-Tp8pVO",
        "outputId": "9e6ceca9-70d9-44fb-9379-3c38d87a27b1"
      },
      "execution_count": 15,
      "outputs": [
        {
          "output_type": "display_data",
          "data": {
            "text/plain": [
              "<Figure size 1200x800 with 2 Axes>"
            ],
            "image/png": "[encoded data removed]"
          },
          "metadata": {}
        }
      ]
    },
    {
      "cell_type": "code",
      "source": [
        "pd.set_option('display.max_columns', 200)\n",
        "pd.set_option('display.max_rows', 200)"
      ],
      "metadata": {
        "id": "NMhRGmZ08tNY"
      },
      "execution_count": 16,
      "outputs": []
    },
    {
      "cell_type": "markdown",
      "source": [
        "###missing values"
      ],
      "metadata": {
        "id": "JzIhJci18wRM"
      }
    },
    {
      "cell_type": "code",
      "source": [
        "import matplotlib.pyplot as plt\n",
        "import seaborn as sns\n",
        "\n",
        "# Calculate the percentage of missing values for each column\n",
        "missing_val_count_by_column = insurance_df.isnull().sum() / len(insurance_df)\n",
        "\n",
        "# Filter columns with missing values greater than 40%\n",
        "missing_val_greater_than_40 = missing_val_count_by_column[missing_val_count_by_column > 0.4].sort_values(ascending=False)\n",
        "\n",
        "# Plot the missing values\n",
        "plt.figure(figsize=(10, 6))\n",
        "sns.barplot(x=missing_val_greater_than_40.index, y=missing_val_greater_than_40.values, palette=\"viridis\")\n",
        "plt.title('Percentage of Missing Values in Columns (More than 40%)')\n",
        "plt.xlabel('Columns')\n",
        "plt.ylabel('Percentage of Missing Values')\n",
        "plt.xticks(rotation=45, ha='right')\n",
        "plt.tight_layout()\n",
        "plt.show()\n"
      ],
      "metadata": {
        "colab": {
          "base_uri": "https://localhost:8080/",
          "height": 748
        },
        "id": "ft0R2BLn8x0I",
        "outputId": "29848710-e740-41e5-c8d1-55d725c22f29"
      },
      "execution_count": 17,
      "outputs": [
        {
          "output_type": "stream",
          "name": "stderr",
          "text": [
            "<ipython-input-17-639e2f3ad610>:12: FutureWarning:\n",
            "\n",
            "\n",
            "\n",
            "Passing `palette` without assigning `hue` is deprecated and will be removed in v0.14.0. Assign the `x` variable to `hue` and set `legend=False` for the same effect.\n",
            "\n",
            "\n"
          ]
        },
        {
          "output_type": "display_data",
          "data": {
            "text/plain": [
              "<Figure size 1000x600 with 1 Axes>"
            ],
            "image/png": "[encoded data removed]"
          },
          "metadata": {}
        }
      ]
    },
    {
      "cell_type": "code",
      "source": [
        "pip install missingno\n"
      ],
      "metadata": {
        "colab": {
          "base_uri": "https://localhost:8080/"
        },
        "id": "-DqgJUQe80_P",
        "outputId": "efe1f274-8611-4f87-f1ae-30eaf79bc1ff"
      },
      "execution_count": 18,
      "outputs": [
        {
          "output_type": "stream",
          "name": "stdout",
          "text": [
            "Requirement already satisfied: missingno in /usr/local/lib/python3.10/dist-packages (0.5.2)\n",
            "Requirement already satisfied: numpy in /usr/local/lib/python3.10/dist-packages (from missingno) (1.25.2)\n",
            "Requirement already satisfied: matplotlib in /usr/local/lib/python3.10/dist-packages (from missingno) (3.7.1)\n",
            "Requirement already satisfied: scipy in /usr/local/lib/python3.10/dist-packages (from missingno) (1.11.4)\n",
            "Requirement already satisfied: seaborn in /usr/local/lib/python3.10/dist-packages (from missingno) (0.13.1)\n",
            "Requirement already satisfied: contourpy>=1.0.1 in /usr/local/lib/python3.10/dist-packages (from matplotlib->missingno) (1.2.1)\n",
            "Requirement already satisfied: cycler>=0.10 in /usr/local/lib/python3.10/dist-packages (from matplotlib->missingno) (0.12.1)\n",
            "Requirement already satisfied: fonttools>=4.22.0 in /usr/local/lib/python3.10/dist-packages (from matplotlib->missingno) (4.51.0)\n",
            "Requirement already satisfied: kiwisolver>=1.0.1 in /usr/local/lib/python3.10/dist-packages (from matplotlib->missingno) (1.4.5)\n",
            "Requirement already satisfied: packaging>=20.0 in /usr/local/lib/python3.10/dist-packages (from matplotlib->missingno) (24.0)\n",
            "Requirement already satisfied: pillow>=6.2.0 in /usr/local/lib/python3.10/dist-packages (from matplotlib->missingno) (9.4.0)\n",
            "Requirement already satisfied: pyparsing>=2.3.1 in /usr/local/lib/python3.10/dist-packages (from matplotlib->missingno) (3.1.2)\n",
            "Requirement already satisfied: python-dateutil>=2.7 in /usr/local/lib/python3.10/dist-packages (from matplotlib->missingno) (2.8.2)\n",
            "Requirement already satisfied: pandas>=1.2 in /usr/local/lib/python3.10/dist-packages (from seaborn->missingno) (2.0.3)\n",
            "Requirement already satisfied: pytz>=2020.1 in /usr/local/lib/python3.10/dist-packages (from pandas>=1.2->seaborn->missingno) (2023.4)\n",
            "Requirement already satisfied: tzdata>=2022.1 in /usr/local/lib/python3.10/dist-packages (from pandas>=1.2->seaborn->missingno) (2024.1)\n",
            "Requirement already satisfied: six>=1.5 in /usr/local/lib/python3.10/dist-packages (from python-dateutil>=2.7->matplotlib->missingno) (1.16.0)\n"
          ]
        }
      ]
    },
    {
      "cell_type": "code",
      "source": [
        "import missingno as msno\n",
        "\n",
        "# Assuming you have already loaded your insurance dataset into insurance_df\n",
        "\n",
        "# Visualize missing values in the training set\n",
        "msno.matrix(insurance_df, figsize=(10, 6))\n",
        "plt.title('Missing Values in Training Set')\n",
        "plt.show()\n"
      ],
      "metadata": {
        "colab": {
          "base_uri": "https://localhost:8080/",
          "height": 535
        },
        "id": "Qy4UFKuI8-ji",
        "outputId": "0c09a29e-e198-4a60-9fa5-cb24f779a40b"
      },
      "execution_count": 19,
      "outputs": [
        {
          "output_type": "display_data",
          "data": {
            "text/plain": [
              "<Figure size 1000x600 with 2 Axes>"
            ],
            "image/png": "[encoded data removed]"
          },
          "metadata": {}
        }
      ]
    },
    {
      "cell_type": "code",
      "source": [
        "import missingno as msno\n",
        "import matplotlib.pyplot as plt\n",
        "\n",
        "# Visualize missing values in the training set with observations on the x-axis and variables on the y-axis\n",
        "msno.matrix(insurance_df.T, figsize=(10, 6))  # Transpose the DataFrame to switch x and y axis\n",
        "plt.title('Missing Values in Training Set')\n",
        "plt.xlabel('Variables')\n",
        "plt.ylabel('Observations')\n",
        "plt.show()\n"
      ],
      "metadata": {
        "colab": {
          "base_uri": "https://localhost:8080/",
          "height": 538
        },
        "id": "7dLKqXfB9Cje",
        "outputId": "2cba320f-b8b4-4fef-a921-98d5f166bf67"
      },
      "execution_count": 20,
      "outputs": [
        {
          "output_type": "display_data",
          "data": {
            "text/plain": [
              "<Figure size 1000x600 with 2 Axes>"
            ],
            "image/png": "[encoded data removed]"
          },
          "metadata": {}
        }
      ]
    },
    {
      "cell_type": "code",
      "source": [
        "pd.set_option('display.max_columns', 200)\n",
        "pd.set_option('display.max_rows', 200)"
      ],
      "metadata": {
        "id": "M1gMwPgH9hOa"
      },
      "execution_count": 21,
      "outputs": []
    },
    {
      "cell_type": "markdown",
      "source": [
        "###Null Value Check"
      ],
      "metadata": {
        "id": "GCh_njAH9mf2"
      }
    },
    {
      "cell_type": "code",
      "source": [
        "\n",
        "missing_val_count_by_column = insurance_df.isnull().sum()/len(insurance_df)\n",
        "\n",
        "print(missing_val_count_by_column[missing_val_count_by_column > 0.4].sort_values(ascending=False))"
      ],
      "metadata": {
        "colab": {
          "base_uri": "https://localhost:8080/"
        },
        "id": "Acfr4VUJ9nNc",
        "outputId": "e5bd5991-ae98-440a-81ad-4961ae97b77a"
      },
      "execution_count": 22,
      "outputs": [
        {
          "output_type": "stream",
          "name": "stdout",
          "text": [
            "Medical_History_10     0.990620\n",
            "Medical_History_32     0.981358\n",
            "Medical_History_24     0.935990\n",
            "Medical_History_15     0.751015\n",
            "Family_Hist_5          0.704114\n",
            "Family_Hist_3          0.576632\n",
            "Family_Hist_2          0.482579\n",
            "Insurance_History_5    0.427679\n",
            "dtype: float64\n"
          ]
        }
      ]
    },
    {
      "cell_type": "code",
      "source": [
        "insurance_df = insurance_df.dropna(thresh=insurance_df.shape[0]*0.4,axis=1)"
      ],
      "metadata": {
        "id": "deBoM27M9sAb"
      },
      "execution_count": 23,
      "outputs": []
    },
    {
      "cell_type": "code",
      "source": [
        "# Does not contain important information\n",
        "insurance_df.drop('Product_Info_2',axis=1,inplace=True)"
      ],
      "metadata": {
        "id": "e-ToGO599vWM"
      },
      "execution_count": 24,
      "outputs": []
    },
    {
      "cell_type": "code",
      "source": [],
      "metadata": {
        "id": "PoqT7HeZ9zbH"
      },
      "execution_count": null,
      "outputs": []
    },
    {
      "cell_type": "markdown",
      "source": [
        "###X and Y split"
      ],
      "metadata": {
        "id": "BRckFgt290xi"
      }
    },
    {
      "cell_type": "code",
      "source": [
        "# Data for all the independent variables\n",
        "X = insurance_df.drop(labels='Modified_Response',axis=1)\n",
        "\n",
        "# Data for the dependent variable\n",
        "Y = insurance_df['Modified_Response']"
      ],
      "metadata": {
        "id": "MgtrLnHs91XB"
      },
      "execution_count": 25,
      "outputs": []
    },
    {
      "cell_type": "markdown",
      "source": [
        "###Filling Remaining Missing Values"
      ],
      "metadata": {
        "id": "SFJxwXzo-BzA"
      }
    },
    {
      "cell_type": "code",
      "source": [
        "X = X.fillna(X.mean())"
      ],
      "metadata": {
        "id": "t8yFlrhp-CU5"
      },
      "execution_count": 26,
      "outputs": []
    },
    {
      "cell_type": "markdown",
      "source": [
        "###Train Test Split"
      ],
      "metadata": {
        "id": "OhznqaU_-GM_"
      }
    },
    {
      "cell_type": "code",
      "source": [
        "from sklearn.model_selection import train_test_split\n",
        "\n",
        "# Assuming X and Y are your feature and target variables respectively\n",
        "X_train, X_test, Y_train, Y_test = train_test_split(X, Y, test_size=0.25, random_state=1)\n"
      ],
      "metadata": {
        "id": "eMKVHwwn-Gt0"
      },
      "execution_count": 28,
      "outputs": []
    },
    {
      "cell_type": "markdown",
      "source": [
        "###Shapes of Train and Test Data"
      ],
      "metadata": {
        "id": "p0I5QLPd-W3j"
      }
    },
    {
      "cell_type": "code",
      "source": [
        "# Check the shape of train dataset\n",
        "print(X_train.shape,Y_train.shape)\n",
        "\n",
        "# Check the shape of test dataset\n",
        "print(X_test.shape, Y_test.shape)"
      ],
      "metadata": {
        "colab": {
          "base_uri": "https://localhost:8080/"
        },
        "id": "jenVvnfB-Xcj",
        "outputId": "5995b6b1-a6cc-4ce0-9216-2cbde9c75a07"
      },
      "execution_count": 29,
      "outputs": [
        {
          "output_type": "stream",
          "name": "stdout",
          "text": [
            "(44535, 120) (44535,)\n",
            "(14846, 120) (14846,)\n"
          ]
        }
      ]
    },
    {
      "cell_type": "code",
      "source": [
        "# Utility Functions\n",
        "def check_scores(model, X_train, X_test ):\n",
        "  # Making predictions on train and test data\n",
        "\n",
        "  train_class_preds = model.predict(X_train)\n",
        "  test_class_preds = model.predict(X_test)\n",
        "\n",
        "\n",
        "  # Get the probabilities on train and test\n",
        "  train_preds = model.predict_proba(X_train)[:,1]\n",
        "  test_preds = model.predict_proba(X_test)[:,1]\n",
        "\n",
        "\n",
        "  # Calculating accuracy on train and test\n",
        "  train_accuracy = accuracy_score(Y_train,train_class_preds)\n",
        "  test_accuracy = accuracy_score(Y_test,test_class_preds)\n",
        "\n",
        "  print(\"The accuracy on train dataset is\", train_accuracy)\n",
        "  print(\"The accuracy on test dataset is\", test_accuracy)\n",
        "  print()\n",
        "  # Get the confusion matrices for train and test\n",
        "  train_cm = confusion_matrix(Y_train,train_class_preds)\n",
        "  test_cm = confusion_matrix(Y_test,test_class_preds )\n",
        "\n",
        "  print('Train confusion matrix:')\n",
        "  print( train_cm)\n",
        "  print()\n",
        "  print('Test confusion matrix:')\n",
        "  print(test_cm)\n",
        "  print()\n",
        "\n",
        "  # Get the roc_auc score for train and test dataset\n",
        "  train_auc = roc_auc_score(Y_train,train_preds)\n",
        "  test_auc = roc_auc_score(Y_test,test_preds)\n",
        "\n",
        "  print('ROC on train data:', train_auc)\n",
        "  print('ROC on test data:', test_auc)\n",
        "\n",
        "  # Fscore, precision and recall on test data\n",
        "  f1 = f1_score(Y_test, test_class_preds)\n",
        "  precision = precision_score(Y_test, test_class_preds)\n",
        "  recall = recall_score(Y_test, test_class_preds)\n",
        "\n",
        "\n",
        "  #R2 score on train and test data\n",
        "  train_log = log_loss(Y_train,train_preds)\n",
        "  test_log = log_loss(Y_test, test_preds)\n",
        "\n",
        "  print()\n",
        "  print('Train log loss:', train_log)\n",
        "  print('Test log loss:', test_log)\n",
        "  print()\n",
        "  print(\"F score is:\",f1 )\n",
        "  print(\"Precision is:\",precision)\n",
        "  print(\"Recall is:\", recall)\n",
        "  return model, train_auc, test_auc, train_accuracy, test_accuracy,f1, precision,recall, train_log, test_log\n",
        "\n",
        "\n",
        "def check_importance(model, X_train):\n",
        "  #Checking importance of features\n",
        "  importances = model.feature_importances_\n",
        "\n",
        "  #List of columns and their importances\n",
        "  importance_dict = {'Feature' : list(X_train.columns),\n",
        "                    'Feature Importance' : importances}\n",
        "  #Creating a dataframe\n",
        "  importance_df = pd.DataFrame(importance_dict)\n",
        "\n",
        "  #Rounding it off to 2 digits as we might get exponential numbers\n",
        "  importance_df['Feature Importance'] = round(importance_df['Feature Importance'],2)\n",
        "  return importance_df.sort_values(by=['Feature Importance'],ascending=False)\n",
        "\n",
        "def grid_search(model, parameters, X_train, Y_train):\n",
        "  #Doing a grid\n",
        "  grid = GridSearchCV(estimator=model,\n",
        "                       param_grid = parameters,\n",
        "                       cv = 2, verbose=2, scoring='roc_auc')\n",
        "  #Fitting the grid\n",
        "  grid.fit(X_train,Y_train)\n",
        "  print()\n",
        "  print()\n",
        "  # Best model found using grid search\n",
        "  optimal_model = grid.best_estimator_\n",
        "  print('Best parameters are: ')\n",
        "  pprint( grid.best_params_)\n",
        "\n",
        "  return optimal_model\n",
        "\n",
        "\n",
        "\n",
        "# This function will show how a feature is pushing towards 0 or 1\n",
        "def interpret_with_lime(model, X_test):\n",
        "  # New data\n",
        "  interpretor = lime_tabular.LimeTabularExplainer(\n",
        "    training_data=np.array(X_train),\n",
        "    feature_names=X_train.columns,\n",
        "    mode='classification')\n",
        "\n",
        "\n",
        "  exp = interpretor.explain_instance(\n",
        "      data_row=X_test.iloc[10],\n",
        "      predict_fn=model.predict_proba\n",
        "  )\n",
        "\n",
        "  exp.show_in_notebook(show_table=True)\n",
        "\n",
        "# This gives feature importance\n",
        "def plot_feature_importance(model, X_train):\n",
        "  # PLotting features vs their importance factors\n",
        "  fig = plt.figure(figsize = (15, 8))\n",
        "\n",
        "  # Extracting importance values\n",
        "  values =check_importance(model, X_train)[check_importance(model, X_train)['Feature Importance']>0]['Feature Importance'].values\n",
        "\n",
        "\n",
        "  # Extracting importance features\n",
        "  features = check_importance(model, X_train)[check_importance(model, X_train)['Feature Importance']>0]['Feature'].values\n",
        "\n",
        "  plt.bar(features, values, color ='blue',\n",
        "          width = 0.4)\n",
        "  plt.xticks( rotation='vertical')\n",
        "  plt.show()"
      ],
      "metadata": {
        "id": "-0HNx63L-cog"
      },
      "execution_count": 30,
      "outputs": []
    },
    {
      "cell_type": "markdown",
      "source": [
        "###multi linear regression"
      ],
      "metadata": {
        "id": "_0h3_XbL-hG8"
      }
    },
    {
      "cell_type": "code",
      "source": [
        "from sklearn.feature_selection import SelectKBest, f_regression\n",
        "from sklearn.linear_model import LinearRegression\n",
        "from sklearn.decomposition import FactorAnalysis\n",
        "from sklearn.model_selection import GridSearchCV\n",
        "from sklearn.metrics import mean_absolute_error, mean_squared_error\n",
        "from sklearn.pipeline import Pipeline\n",
        "from pprint import pprint\n",
        "\n",
        "# Define function to calculate MAE and RMSE\n",
        "def calc_metrics(true_values, predicted_values):\n",
        "    mae = mean_absolute_error(true_values, predicted_values)\n",
        "    rmse = mean_squared_error(true_values, predicted_values, squared=False)\n",
        "    return mae, rmse\n",
        "\n",
        "# Create the Linear Regression estimator\n",
        "linear_reg = LinearRegression()\n",
        "\n",
        "# Create the pipeline with Factor Analysis for feature selection\n",
        "pipeline = Pipeline(steps=[\n",
        "    ('factor_analysis', FactorAnalysis()),\n",
        "    ('estimator', linear_reg)\n",
        "])\n",
        "\n",
        "# Define the number of components for Factor Analysis\n",
        "n_components = [5, 10]  # Adjust the number of components as needed\n",
        "\n",
        "# Hyperparameter Grid for Linear Regression and Factor Analysis\n",
        "param_grid = {\n",
        "    'factor_analysis__n_components': n_components,\n",
        "    'estimator__fit_intercept': [True, False]\n",
        "}\n",
        "\n",
        "# Finding the best model with reduced parameters and folds\n",
        "optimal_model = GridSearchCV(pipeline, param_grid, scoring='neg_mean_absolute_error', cv=3, error_score='raise')\n",
        "optimal_model.fit(X_train, Y_train)\n",
        "\n",
        "# Best parameters and best score\n",
        "print(\"Best Parameters: \", optimal_model.best_params_)\n",
        "print(\"Best Mean Absolute Error: \", -optimal_model.best_score_)\n",
        "\n",
        "# Predictions\n",
        "Y_pred = optimal_model.predict(X_test)\n",
        "\n",
        "# Calculate MAE and RMSE\n",
        "mae, rmse = calc_metrics(Y_test, Y_pred)\n",
        "print(\"Mean Absolute Error:\", mae)\n",
        "print(\"Root Mean Squared Error:\", rmse)\n"
      ],
      "metadata": {
        "colab": {
          "base_uri": "https://localhost:8080/"
        },
        "id": "uOlcdfv7-hyJ",
        "outputId": "6b08d378-e3b5-4fde-c1ba-91f4d192b0a7"
      },
      "execution_count": 65,
      "outputs": [
        {
          "output_type": "stream",
          "name": "stdout",
          "text": [
            "Best Parameters:  {'estimator__fit_intercept': True, 'factor_analysis__n_components': 10}\n",
            "Best Mean Absolute Error:  0.3597582857447597\n",
            "Mean Absolute Error: 0.3614653685941673\n",
            "Root Mean Squared Error: 0.4131362806092218\n"
          ]
        }
      ]
    },
    {
      "cell_type": "markdown",
      "source": [
        "###RANDOM FOREST"
      ],
      "metadata": {
        "id": "c8qstRx5-8t7"
      }
    },
    {
      "cell_type": "code",
      "source": [
        "from sklearn.ensemble import RandomForestRegressor\n",
        "from sklearn.model_selection import RandomizedSearchCV\n",
        "from sklearn.metrics import mean_absolute_error, mean_squared_error\n",
        "from sklearn.decomposition import FactorAnalysis\n",
        "from sklearn.pipeline import Pipeline\n",
        "from pprint import pprint\n",
        "\n",
        "# Define function to calculate MAE and RMSE\n",
        "def calc_metrics(true_values, predicted_values):\n",
        "    mae = mean_absolute_error(true_values, predicted_values)\n",
        "    rmse = mean_squared_error(true_values, predicted_values, squared=False)\n",
        "    return mae, rmse\n",
        "\n",
        "# Reduce the search space for hyperparameters\n",
        "rf_parameters = {\n",
        "    'n_estimators': [50, 100],\n",
        "    'max_depth': [None, 10],\n",
        "    'min_samples_split': [2, 5],\n",
        "    'min_samples_leaf': [1, 2]\n",
        "}\n",
        "\n",
        "# Define the number of components for Factor Analysis\n",
        "n_components = [5, 10, 15]  # Adjust the number of components as needed\n",
        "\n",
        "# Print the hyperparameter grids\n",
        "pprint(rf_parameters)\n",
        "\n",
        "# Create the Factor Analysis transformer\n",
        "factor_analysis = FactorAnalysis()\n",
        "\n",
        "# Create the Random Forest estimator\n",
        "random_forest = RandomForestRegressor()\n",
        "\n",
        "# Create the pipeline\n",
        "pipeline = Pipeline(steps=[\n",
        "    ('factor_analysis', factor_analysis),\n",
        "    ('estimator', random_forest)\n",
        "])\n",
        "\n",
        "# Combine the hyperparameter grids\n",
        "param_distributions = {\n",
        "    'factor_analysis__n_components': n_components,\n",
        "    'estimator__n_estimators': [50, 100],\n",
        "    'estimator__max_depth': [None, 10],\n",
        "    'estimator__min_samples_split': [2, 5],\n",
        "    'estimator__min_samples_leaf': [1, 2]\n",
        "}\n",
        "\n",
        "# Finding the best model using RandomizedSearchCV with reduced iterations and CV folds\n",
        "optimal_model = RandomizedSearchCV(pipeline, param_distributions, n_iter=5, scoring='neg_mean_absolute_error', cv=3, error_score='raise', n_jobs=-1)\n",
        "optimal_model.fit(X_train, Y_train)\n",
        "\n",
        "# Best parameters and best score\n",
        "print(\"Best Parameters: \", optimal_model.best_params_)\n",
        "print(\"Best Mean Absolute Error: \", -optimal_model.best_score_)\n",
        "\n",
        "# Predictions\n",
        "Y_pred = optimal_model.predict(X_test)\n",
        "\n",
        "# Calculate MAE and RMSE\n",
        "mae, rmse = calc_metrics(Y_test, Y_pred)\n",
        "print(\"Mean Absolute Error:\", mae)\n",
        "print(\"Root Mean Squared Error:\", rmse)\n"
      ],
      "metadata": {
        "colab": {
          "base_uri": "https://localhost:8080/"
        },
        "id": "xpiyUpSJ-_UF",
        "outputId": "fd88f8f4-75e7-48e2-894a-d5a3634a34b1"
      },
      "execution_count": 67,
      "outputs": [
        {
          "output_type": "stream",
          "name": "stdout",
          "text": [
            "{'max_depth': [None, 10],\n",
            " 'min_samples_leaf': [1, 2],\n",
            " 'min_samples_split': [2, 5],\n",
            " 'n_estimators': [50, 100]}\n",
            "Best Parameters:  {'factor_analysis__n_components': 15, 'estimator__n_estimators': 50, 'estimator__min_samples_split': 5, 'estimator__min_samples_leaf': 2, 'estimator__max_depth': None}\n",
            "Best Mean Absolute Error:  0.3042266328571818\n",
            "Mean Absolute Error: 0.3083928035381626\n",
            "Root Mean Squared Error: 0.3975964040084206\n"
          ]
        }
      ]
    },
    {
      "cell_type": "markdown",
      "source": [
        "###ANN"
      ],
      "metadata": {
        "id": "epY3_9tz_hj6"
      }
    },
    {
      "cell_type": "code",
      "source": [
        "from sklearn.neural_network import MLPRegressor\n",
        "from sklearn.model_selection import RandomizedSearchCV\n",
        "from sklearn.metrics import mean_absolute_error, mean_squared_error\n",
        "from sklearn.decomposition import FactorAnalysis\n",
        "from sklearn.pipeline import Pipeline\n",
        "from pprint import pprint\n",
        "\n",
        "# Define function to calculate MAE and RMSE\n",
        "def calc_metrics(true_values, predicted_values):\n",
        "    mae = mean_absolute_error(true_values, predicted_values)\n",
        "    rmse = mean_squared_error(true_values, predicted_values, squared=False)\n",
        "    return mae, rmse\n",
        "\n",
        "# Define the number of principal components\n",
        "n_components = [0.8, 0.9]  # Reduce components for faster computation\n",
        "\n",
        "# Hyperparameter Grid for Factor Analysis\n",
        "fa_parameters = {\n",
        "    'n_components': [2, 3]  # Adjust the number of components as needed\n",
        "}\n",
        "\n",
        "# Hyperparameter Grid for MLPRegressor\n",
        "mlp_parameters = {\n",
        "    'hidden_layer_sizes': [(50,), (100,)],\n",
        "    'activation': ['relu', 'tanh'],\n",
        "    'alpha': [0.0001, 0.001],\n",
        "}\n",
        "\n",
        "# Print the hyperparameter grids\n",
        "pprint(fa_parameters)\n",
        "pprint(mlp_parameters)\n",
        "\n",
        "# Create the Factor Analysis transformer\n",
        "fa = FactorAnalysis()\n",
        "\n",
        "# Create the MLPRegressor estimator\n",
        "mlp_regressor = MLPRegressor(max_iter=1000)  # Increase max_iter for early stopping\n",
        "\n",
        "# Create the pipeline\n",
        "pipeline = Pipeline(steps=[\n",
        "    ('factor_analysis', fa),\n",
        "    ('estimator', mlp_regressor)\n",
        "])\n",
        "\n",
        "# Combine the hyperparameter grids\n",
        "param_distributions = {\n",
        "    'factor_analysis__n_components': fa_parameters['n_components'],\n",
        "    'estimator__hidden_layer_sizes': [(50,), (100,)],\n",
        "    'estimator__activation': ['relu', 'tanh'],\n",
        "    'estimator__alpha': [0.0001, 0.001],\n",
        "}\n",
        "\n",
        "# Finding the best model using RandomizedSearchCV with reduced iterations\n",
        "optimal_model = RandomizedSearchCV(pipeline, param_distributions, n_iter=5, scoring='neg_mean_absolute_error', cv=3, error_score='raise', n_jobs=-1)\n",
        "optimal_model.fit(X_train, Y_train)\n",
        "\n",
        "# Best parameters and best score\n",
        "print(\"Best Parameters: \", optimal_model.best_params_)\n",
        "print(\"Best Mean Absolute Error: \", -optimal_model.best_score_)\n",
        "\n",
        "# Predictions\n",
        "Y_pred = optimal_model.predict(X_test)\n",
        "\n",
        "# Calculate MAE and RMSE\n",
        "mae, rmse = calc_metrics(Y_test, Y_pred)\n",
        "print(\"Mean Absolute Error:\", mae)\n",
        "print(\"Root Mean Squared Error:\", rmse)\n"
      ],
      "metadata": {
        "colab": {
          "base_uri": "https://localhost:8080/"
        },
        "id": "cKdPOxgaByx1",
        "outputId": "cc1b8f11-3d6c-4c33-f265-c8587c224e6f"
      },
      "execution_count": 62,
      "outputs": [
        {
          "output_type": "stream",
          "name": "stdout",
          "text": [
            "{'n_components': [2, 3]}\n",
            "{'activation': ['relu', 'tanh'],\n",
            " 'alpha': [0.0001, 0.001],\n",
            " 'hidden_layer_sizes': [(50,), (100,)]}\n",
            "Best Parameters:  {'factor_analysis__n_components': 3, 'estimator__hidden_layer_sizes': (100,), 'estimator__alpha': 0.001, 'estimator__activation': 'relu'}\n",
            "Best Mean Absolute Error:  0.36870358938441444\n",
            "Mean Absolute Error: 0.3666071876269988\n",
            "Root Mean Squared Error: 0.4310504104946933\n"
          ]
        }
      ]
    },
    {
      "cell_type": "code",
      "source": [],
      "metadata": {
        "id": "F2FmdXNhFHbF"
      },
      "execution_count": null,
      "outputs": []
    },
    {
      "cell_type": "markdown",
      "source": [
        "###COMPARING MAE RMSE"
      ],
      "metadata": {
        "id": "Sy-GhEiiFH1I"
      }
    },
    {
      "cell_type": "code",
      "source": [
        "pip install tabulate\n"
      ],
      "metadata": {
        "colab": {
          "base_uri": "https://localhost:8080/"
        },
        "id": "xyUd6ZrWHDKM",
        "outputId": "2d82b990-a7eb-4fc7-db59-0ba8cd62326b"
      },
      "execution_count": 53,
      "outputs": [
        {
          "output_type": "stream",
          "name": "stdout",
          "text": [
            "Requirement already satisfied: tabulate in /usr/local/lib/python3.10/dist-packages (0.9.0)\n",
            "\u001b[33mWARNING: Running pip as the 'root' user can result in broken permissions and conflicting behaviour with the system package manager. It is recommended to use a virtual environment instead: https://pip.pypa.io/warnings/venv\u001b[0m\u001b[33m\n",
            "\u001b[0m"
          ]
        }
      ]
    },
    {
      "cell_type": "code",
      "source": [
        "from tabulate import tabulate\n",
        "\n",
        "# Define the results in a list of lists\n",
        "results = [\n",
        "    [\"ANN\",  0.3666071876269988, 0.4310504104946933],\n",
        "    [\"Random Forest\", 0.3083928035381626,0.3975964040084206],\n",
        "    [\"MLPRegressor\", 0.3614653685941673,0.4131362806092218]\n",
        "]\n",
        "\n",
        "# Print the results in tabular format\n",
        "print(tabulate(results, headers=[\"Model\", \"Mean Absolute Error\", \"Root Mean Squared Error\"], tablefmt=\"pretty\"))\n"
      ],
      "metadata": {
        "colab": {
          "base_uri": "https://localhost:8080/"
        },
        "id": "6PUF_bL0INfo",
        "outputId": "530293ff-2084-4bfa-8db4-74ae9efe9e85"
      },
      "execution_count": 69,
      "outputs": [
        {
          "output_type": "stream",
          "name": "stdout",
          "text": [
            "+---------------+---------------------+-------------------------+\n",
            "|     Model     | Mean Absolute Error | Root Mean Squared Error |\n",
            "+---------------+---------------------+-------------------------+\n",
            "|      ANN      | 0.3666071876269988  |   0.4310504104946933    |\n",
            "| Random Forest | 0.3083928035381626  |   0.3975964040084206    |\n",
            "| MLPRegressor  | 0.3614653685941673  |   0.4131362806092218    |\n",
            "+---------------+---------------------+-------------------------+\n"
          ]
        }
      ]
    }
  ]
}